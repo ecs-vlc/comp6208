{
 "cells": [
  {
   "cell_type": "markdown",
   "metadata": {},
   "source": [
    "# Overfitting\n",
    "\n",
    "Let's look at doing some quick machine learning with scikit learn"
   ]
  },
  {
   "cell_type": "markdown",
   "metadata": {},
   "source": [
    "## Grab Some Data"
   ]
  },
  {
   "cell_type": "code",
   "execution_count": 1,
   "metadata": {},
   "outputs": [
    {
     "name": "stdout",
     "output_type": "stream",
     "text": [
      "['__all__', '__builtins__', '__cached__', '__doc__', '__file__', '__loader__', '__name__', '__package__', '__path__', '__spec__', '_base', '_california_housing', '_covtype', '_kddcup99', '_lfw', '_olivetti_faces', '_openml', '_rcv1', '_samples_generator', '_species_distributions', '_svmlight_format_fast', '_svmlight_format_io', '_twenty_newsgroups', 'clear_data_home', 'dump_svmlight_file', 'fetch_20newsgroups', 'fetch_20newsgroups_vectorized', 'fetch_california_housing', 'fetch_covtype', 'fetch_kddcup99', 'fetch_lfw_pairs', 'fetch_lfw_people', 'fetch_olivetti_faces', 'fetch_openml', 'fetch_rcv1', 'fetch_species_distributions', 'get_data_home', 'load_boston', 'load_breast_cancer', 'load_diabetes', 'load_digits', 'load_files', 'load_iris', 'load_linnerud', 'load_sample_image', 'load_sample_images', 'load_svmlight_file', 'load_svmlight_files', 'load_wine', 'make_biclusters', 'make_blobs', 'make_checkerboard', 'make_circles', 'make_classification', 'make_friedman1', 'make_friedman2', 'make_friedman3', 'make_gaussian_quantiles', 'make_hastie_10_2', 'make_low_rank_matrix', 'make_moons', 'make_multilabel_classification', 'make_regression', 'make_s_curve', 'make_sparse_coded_signal', 'make_sparse_spd_matrix', 'make_sparse_uncorrelated', 'make_spd_matrix', 'make_swiss_roll']\n",
      "(442, 10)\n",
      "(442,)\n"
     ]
    },
    {
     "data": {
      "image/png": "[encoded data removed]",
      "text/plain": [
       "<Figure size 432x288 with 1 Axes>"
      ]
     },
     "metadata": {
      "needs_background": "light"
     },
     "output_type": "display_data"
    }
   ],
   "source": [
    "from sklearn import datasets\n",
    "import matplotlib.pyplot as plt\n",
    "%matplotlib inline\n",
    "from matplotlib import rc\n",
    "#rc('text', usetex=True)\n",
    "\n",
    "print(dir(datasets))  # look at methods available\n",
    "diabetes = datasets.load_diabetes()\n",
    "\n",
    "print(diabetes.data.shape)\n",
    "print(diabetes.target.shape)\n",
    "\n",
    "plt.hist(diabetes.target)\n",
    "\n",
    "\n",
    "training_data = diabetes.data[:300]\n",
    "training_target = diabetes.target[:300]\n",
    "testing_data = diabetes.data[300:]\n",
    "testing_target = diabetes.target[300:]"
   ]
  },
  {
   "cell_type": "markdown",
   "metadata": {},
   "source": [
    "## MLP"
   ]
  },
  {
   "cell_type": "code",
   "execution_count": 2,
   "metadata": {},
   "outputs": [
    {
     "name": "stdout",
     "output_type": "stream",
     "text": [
      "E_t = 54.150,  E_g = 53.189\n"
     ]
    }
   ],
   "source": [
    "from sklearn.neural_network import MLPRegressor\n",
    "import numpy as np\n",
    "import math\n",
    "\n",
    "mlp = MLPRegressor(alpha=1e-6,\n",
    "                   hidden_layer_sizes=(10,), random_state=1, max_iter=10000)\n",
    "\n",
    "mlp.fit(training_data, training_target)\n",
    "\n",
    "def RMSE(data, target, regressor):\n",
    "    prediction = regressor.predict(data)\n",
    "    return math.sqrt(np.mean((prediction-target)**2))\n",
    "\n",
    "\n",
    "print(\"E_t = {:.3f},  E_g = {:.3f}\".format(RMSE(training_data, training_target, mlp),\n",
    "                                          RMSE(testing_data, testing_target, mlp)))"
   ]
  },
  {
   "cell_type": "markdown",
   "metadata": {},
   "source": [
    "## Normalise you data"
   ]
  },
  {
   "cell_type": "code",
   "execution_count": 3,
   "metadata": {},
   "outputs": [
    {
     "name": "stdout",
     "output_type": "stream",
     "text": [
      "means =  -0.0014 -0.00048 -0.002 -0.0014 -0.002 -0.0016 0.0021 -0.003 -0.0027 -0.0025 \n",
      "vars  =  0.0024 0.0023 0.0022 0.0022 0.0022 0.0022 0.0024 0.0022 0.0021 0.0023 \n",
      "means =  5.9e-18 -3e-18 8.1e-17 -3e-17 -7e-17 -9e-17 -8.9e-18 1.3e-16 1.1e-17 8.9e-19 \n",
      "vars  =  1 1 1 1 1 1 1 1 1 1 \n",
      "E_t = 46.675,  E_g = 56.339\n"
     ]
    }
   ],
   "source": [
    "from sklearn.preprocessing import StandardScaler  \n",
    "scaler = StandardScaler()  \n",
    "sf = \"{:.2g} \"*10\n",
    "\n",
    "print(\"means = \", sf.format(*np.mean(training_data,axis=0)))\n",
    "print(\"vars  = \", sf.format(*np.var(training_data,axis=0)))\n",
    "\n",
    "scaler.fit(training_data)\n",
    "training_data = scaler.transform(training_data)  \n",
    "# apply same transformation to test data\n",
    "testing_data = scaler.transform(testing_data)\n",
    "\n",
    "print(\"means = \", sf.format(*np.mean(training_data,axis=0)))\n",
    "print(\"vars  = \", sf.format(*np.var(training_data,axis=0)))\n",
    "\n",
    "mlp = MLPRegressor(alpha=1e-6,\n",
    "                   hidden_layer_sizes=(10,), random_state=1, max_iter=10000)\n",
    "\n",
    "mlp.fit(training_data, training_target)\n",
    "\n",
    "print(\"E_t = {:.3f},  E_g = {:.3f}\".format(RMSE(training_data, training_target, mlp),\n",
    "                                          RMSE(testing_data, testing_target, mlp)))"
   ]
  },
  {
   "cell_type": "markdown",
   "metadata": {},
   "source": [
    "## Test Overfitting"
   ]
  },
  {
   "cell_type": "code",
   "execution_count": 11,
   "metadata": {},
   "outputs": [
    {
     "name": "stdout",
     "output_type": "stream",
     "text": [
      "5 10 15 20 25 30 35 40 45 50 55 60 "
     ]
    },
    {
     "data": {
      "image/png": "[encoded data removed]",
      "text/plain": [
       "<Figure size 432x288 with 1 Axes>"
      ]
     },
     "metadata": {
      "needs_background": "light"
     },
     "output_type": "display_data"
    }
   ],
   "source": [
    "from sklearn.utils.testing import ignore_warnings\n",
    "from sklearn.exceptions import ConvergenceWarning\n",
    "import warnings\n",
    "\n",
    "h = []\n",
    "Et = []\n",
    "Eg = []\n",
    "for hidden in range(5,61,5):\n",
    "    print(hidden, end=\" \")\n",
    "    mlp = MLPRegressor(alpha=0,\n",
    "                       hidden_layer_sizes=(hidden,), random_state=1, max_iter=10000)\n",
    "    with warnings.catch_warnings():\n",
    "        warnings.filterwarnings(\"ignore\", category=ConvergenceWarning)\n",
    "        mlp.fit(training_data, training_target)\n",
    "    h.append(hidden)\n",
    "    Et.append(RMSE(training_data, training_target, mlp))\n",
    "    Eg.append(RMSE(testing_data, testing_target, mlp))\n",
    "    \n",
    "\n",
    "plt.plot(h, Et, \"-r\", label=\"$E_t$\")\n",
    "plt.plot(h, Eg, \"-b\", label=\"$E_g$\")\n",
    "plt.legend()\n",
    "plt.xlabel(\"Number of hidden layers\")\n",
    "plt.show()"
   ]
  },
  {
   "cell_type": "code",
   "execution_count": null,
   "metadata": {},
   "outputs": [],
   "source": []
  },
  {
   "cell_type": "code",
   "execution_count": null,
   "metadata": {},
   "outputs": [],
   "source": []
  }
 ],
 "metadata": {
  "kernelspec": {
   "display_name": "Python 3",
   "language": "python",
   "name": "python3"
  },
  "language_info": {
   "codemirror_mode": {
    "name": "ipython",
    "version": 3
   },
   "file_extension": ".py",
   "mimetype": "text/x-python",
   "name": "python",
   "nbconvert_exporter": "python",
   "pygments_lexer": "ipython3",
   "version": "3.6.12"
  }
 },
 "nbformat": 4,
 "nbformat_minor": 4
}
