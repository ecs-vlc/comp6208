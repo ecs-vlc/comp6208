{
 "cells": [
  {
   "cell_type": "markdown",
   "metadata": {},
   "source": [
    "# Vector Spaces"
   ]
  },
  {
   "cell_type": "markdown",
   "metadata": {},
   "source": [
    "## Function Spaces"
   ]
  },
  {
   "cell_type": "markdown",
   "metadata": {},
   "source": [
    "Here we explore function as elements of a vector space.  Let us consider two functions, $f(x) = \\tanh(x-1)$ and $g(x) = exp(-x^2)$ in the interval $\\mathcal{I} = [-3,3]$.  I can define the two norm and inner product of these functions as\n",
    "$$ \\|f\\| = \\sqrt{ \\int_{-3}^3 \\tanh^2(x-1) \\, \\mathrm{d} x }\\quad \\quad\n",
    " \\|g\\| = \\sqrt{ \\int_{-3}^3 \\mathrm{e}^{2\\,x^2} \\, \\mathrm{d} x }\\quad \\quad\n",
    " \\left\\langle f,\\,g\\right\\rangle = \\int_{-3}^3 \\mathrm{e}^{x^2}\\, \\tanh(x-1) \\, \\mathrm{d} x $$\n",
    "\n",
    "The angle, $\\theta$ between these functions satisfies\n",
    "$$ \\cos(\\theta) = \\frac{\\left\\langle f,\\,g\\right\\rangle}{\\|f\\|\\,\\|g\\|} $$\n",
    "Using numpy and scipy we can plot the functions and compute these quantities"
   ]
  },
  {
   "cell_type": "code",
   "execution_count": 2,
   "metadata": {},
   "outputs": [],
   "source": [
    "import numpy as np\n",
    "from scipy import integrate\n",
    "import matplotlib.pyplot as plt\n",
    "import seaborn as sns\n",
    "%matplotlib inline"
   ]
  },
  {
   "cell_type": "code",
   "execution_count": 9,
   "metadata": {},
   "outputs": [
    {
     "data": {
      "image/png": "[encoded data removed]",
      "text/plain": [
       "<Figure size 432x288 with 1 Axes>"
      ]
     },
     "metadata": {
      "needs_background": "light"
     },
     "output_type": "display_data"
    }
   ],
   "source": [
    "def f(x):\n",
    "    return np.tanh(x-1)\n",
    "\n",
    "def g(x):\n",
    "    return np.exp(-x*x)\n",
    "\n",
    "xs = np.linspace(-3,3,128)\n",
    "\n",
    "plt.plot(xs, f(xs), \"-\", label=\"f(x)\")\n",
    "plt.plot(xs, g(xs), \"-\", label=\"g(x)\")\n",
    "plt.plot([-3,3],[0,0],\"-k\",[0,0],[-1,1],\"-k\")\n",
    "plt.xlabel(\"x\")\n",
    "plt.legend()\n",
    "plt.show()"
   ]
  },
  {
   "cell_type": "code",
   "execution_count": 28,
   "metadata": {},
   "outputs": [
    {
     "name": "stdout",
     "output_type": "stream",
     "text": [
      "|f| = 2.009, |g| = 1.120, <f,g> = -1.120, theta = 2.092radians\n"
     ]
    }
   ],
   "source": [
    "def ff(x):\n",
    "    return f(x)*f(x)\n",
    "\n",
    "def gg(x):\n",
    "    return g(x)*g(x)\n",
    "\n",
    "def fg(x):\n",
    "    return f(x)*g(x)\n",
    "\n",
    "\n",
    "fnorm, _ = np.sqrt(integrate.quad(ff, -3, 3))\n",
    "gnorm, _ = np.sqrt(integrate.quad(gg, -3, 3))\n",
    "inner, _ = integrate.quad(fg, -3, 3)\n",
    "\n",
    "theta = np.arccos(inner/(fnorm*gnorm))\n",
    "\n",
    "print(f\"|f| = {fnorm:0.3f}, |g| = {gnorm:0.3f}, <f,g> = {inner:0.3f}, theta = {theta:0.3f}radians\")"
   ]
  },
  {
   "cell_type": "markdown",
   "metadata": {},
   "source": [
    "### Approximating Functions"
   ]
  },
  {
   "cell_type": "markdown",
   "metadata": {},
   "source": [
    "We can approximate the functions by a vector at a set of regularly spaced points $\\mathbf{x} = (x_0, x_1, \\ldots, x_n)$ where $\\Delta = x_{i+1}-x_{i}$\n",
    "$$ \\hat{\\mathbf{f}} = \\sqrt{\\Delta}\\, f(\\mathbf{x}) \\quad \\quad \\hat{\\mathbf{g}} = \\sqrt{\\Delta} \\,g(\\mathbf{x}) $$\n",
    "Then\n",
    "$$ \\int_{-3}^3 f(x)\\,g(x) \\mathrm{d} x \\approx \\sum_i f(x_i) \\, g(x_i) \\, \\Delta = \\hat{\\mathbf{f}}^{T} \\hat{\\mathbf{g}}$$"
   ]
  },
  {
   "cell_type": "code",
   "execution_count": 72,
   "metadata": {},
   "outputs": [
    {
     "name": "stdout",
     "output_type": "stream",
     "text": [
      "|f| = 2.020, |g| = 1.120, <f,g> = -1.120, theta = 2.089radians\n"
     ]
    }
   ],
   "source": [
    "xs = np.linspace(-3,3,128)\n",
    "Delta = xs[1]-xs[0]\n",
    "fs = np.sqrt(Delta)*f(xs)\n",
    "gs = np.sqrt(Delta)*g(xs)\n",
    "\n",
    "\n",
    "fnorm_approx = np.linalg.norm(fs)\n",
    "gnorm_approx = np.linalg.norm(gs)\n",
    "inner_approx = np.dot(fs,gs)\n",
    "\n",
    "theta_approx = np.arccos(inner_approx/(fnorm_approx*gnorm_approx))\n",
    "\n",
    "print(f\"|f| = {fnorm_approx:0.3f}, |g| = {gnorm_approx:0.3f}, <f,g> = {inner_approx:0.3f}, theta = {theta_approx:0.3f}radians\")"
   ]
  },
  {
   "cell_type": "markdown",
   "metadata": {},
   "source": [
    "### Fourier Series"
   ]
  },
  {
   "cell_type": "markdown",
   "metadata": {},
   "source": [
    "We can change the basis function of our approximation by taking the fast Fourier transform of $\\hat{\\mathbf{f}}$ and $\\hat{\\mathbf{g}}$.  This computes the set of components\n",
    "$$ \\tilde{f}_i = \\sum_{j=1}^n \\hat{f}_j \\, B_{kj} $$\n",
    "where $B_{ki} = \\exp(2\\,\\pi\\, \\mathrm{i}\\, k\\,j/n)$.\n",
    "Although the vectors look very different all we have done is rotated the coordinate axis.  The norms and inner product are unchanged"
   ]
  },
  {
   "cell_type": "code",
   "execution_count": 78,
   "metadata": {},
   "outputs": [
    {
     "name": "stdout",
     "output_type": "stream",
     "text": [
      "(128,) (65,)\n",
      "[-0.80639047+0.00000000e+00j  0.42738964+1.05408429e+00j\n",
      " -0.10346851+4.30904664e-01j -0.01511184+2.38334377e-01j\n",
      " -0.01470142+1.94671462e-01j -0.01873255+1.53744923e-01j\n",
      " -0.01825436+1.27405972e-01j -0.01841136+1.09014253e-01j\n",
      " -0.01853796+9.50563564e-02j -0.01860345+8.41831737e-02j\n",
      " -0.0186554 +7.54600162e-02j -0.01869442+6.82952930e-02j\n",
      " -0.0187242 +6.22997458e-02j -0.0187476 +5.72029590e-02j\n",
      " -0.01876628+5.28119339e-02j -0.01878141+4.89852317e-02j\n",
      " -0.01879384+4.56167951e-02j -0.01880417+4.26255388e-02j\n",
      " -0.01881285+3.99484032e-02j -0.01882021+3.75356064e-02j\n",
      " -0.0188265 +3.53473204e-02j -0.01883191+3.33512999e-02j\n",
      " -0.01883661+3.15211562e-02j -0.01884071+2.98350839e-02j\n",
      " -0.0188443 +2.82749043e-02j -0.01884747+2.68253398e-02j\n",
      " -0.01885028+2.54734551e-02j -0.01885278+2.42082231e-02j\n",
      " -0.01885501+2.30201835e-02j -0.01885701+2.19011720e-02j\n",
      " -0.01885881+2.08441045e-02j -0.01886044+1.98428017e-02j\n",
      " -0.0188619 +1.88918477e-02j -0.01886324+1.79864738e-02j\n",
      " -0.01886445+1.71224628e-02j -0.01886555+1.62960700e-02j\n",
      " -0.01886655+1.55039568e-02j -0.01886747+1.47431355e-02j\n",
      " -0.01886831+1.40109226e-02j -0.01886908+1.33048992e-02j\n",
      " -0.01886979+1.26228779e-02j -0.01887044+1.19628730e-02j\n",
      " -0.01887104+1.13230769e-02j -0.01887158+1.07018382e-02j\n",
      " -0.01887209+1.00976436e-02j -0.01887255+9.50910165e-03j\n",
      " -0.01887297+8.93492903e-03j -0.01887336+8.37393812e-03j\n",
      " -0.01887372+7.82502635e-03j -0.01887404+7.28716668e-03j\n",
      " -0.01887434+6.75939916e-03j -0.01887461+6.24082346e-03j\n",
      " -0.01887485+5.73059215e-03j -0.01887507+5.22790468e-03j\n",
      " -0.01887527+4.73200193e-03j -0.01887545+4.24216133e-03j\n",
      " -0.0188756 +3.75769230e-03j -0.01887574+3.27793215e-03j\n",
      " -0.01887585+2.80224228e-03j -0.01887595+2.33000461e-03j\n",
      " -0.01887603+1.86061829e-03j -0.01887609+1.39349654e-03j\n",
      " -0.01887613+9.28063650e-04j -0.01887616+4.63752153e-04j\n",
      " -0.01887617+0.00000000e+00j]\n"
     ]
    },
    {
     "data": {
      "image/png": "[encoded data removed]",
      "text/plain": [
       "<Figure size 432x288 with 1 Axes>"
      ]
     },
     "metadata": {
      "needs_background": "light"
     },
     "output_type": "display_data"
    }
   ],
   "source": [
    "ffs = np.fft.rfft(fs, norm=\"ortho\") # Use real fft\n",
    "gfs = np.fft.rfft(gs, norm=\"ortho\") # Use real fft\n",
    "ks = np.linspace(0,2*np.pi, 65)\n",
    "print(fs.shape, ffs.shape)\n",
    "print(ffs)\n",
    "plt.plot(ks, ffs.real, \"-\", label=\"Re ffs(k)\")\n",
    "plt.plot(ks, ffs.imag, \"--\", label=\"Im ffs(k)\")\n",
    "plt.plot(ks, gfs.real, \"-\", label=\"Re ggs(k)\")\n",
    "plt.plot(ks, gfs.imag, \".-\", label=\"Im ggs(k)\")\n",
    "plt.xlabel(\"k\")\n",
    "plt.legend()\n",
    "plt.show()"
   ]
  },
  {
   "cell_type": "markdown",
   "metadata": {},
   "source": [
    "Note that because our functions are relatively smooth the Fourier transforms drop off rapidly.  Although this is a very different representation all we have done is change the basis.  The lengths and angles between these vectors remain unchanged"
   ]
  },
  {
   "cell_type": "code",
   "execution_count": 79,
   "metadata": {},
   "outputs": [
    {
     "ename": "TypeError",
     "evalue": "unsupported operand type(s) for *: 'complex' and 'builtin_function_or_method'",
     "output_type": "error",
     "traceback": [
      "\u001b[0;31m---------------------------------------------------------------------------\u001b[0m",
      "\u001b[0;31mTypeError\u001b[0m                                 Traceback (most recent call last)",
      "\u001b[0;32m<ipython-input-79-d23023bb666d>\u001b[0m in \u001b[0;36m<module>\u001b[0;34m\u001b[0m\n\u001b[1;32m      1\u001b[0m \u001b[0mfnorm_approx\u001b[0m \u001b[0;34m=\u001b[0m \u001b[0mnp\u001b[0m\u001b[0;34m.\u001b[0m\u001b[0mlinalg\u001b[0m\u001b[0;34m.\u001b[0m\u001b[0mnorm\u001b[0m\u001b[0;34m(\u001b[0m\u001b[0mffs\u001b[0m\u001b[0;34m)\u001b[0m\u001b[0;34m\u001b[0m\u001b[0;34m\u001b[0m\u001b[0m\n\u001b[1;32m      2\u001b[0m \u001b[0mgnorm_approx\u001b[0m \u001b[0;34m=\u001b[0m \u001b[0mnp\u001b[0m\u001b[0;34m.\u001b[0m\u001b[0mlinalg\u001b[0m\u001b[0;34m.\u001b[0m\u001b[0mnorm\u001b[0m\u001b[0;34m(\u001b[0m\u001b[0mgfs\u001b[0m\u001b[0;34m)\u001b[0m\u001b[0;34m\u001b[0m\u001b[0;34m\u001b[0m\u001b[0m\n\u001b[0;32m----> 3\u001b[0;31m \u001b[0minner_approx\u001b[0m \u001b[0;34m=\u001b[0m \u001b[0mnp\u001b[0m\u001b[0;34m.\u001b[0m\u001b[0mdot\u001b[0m\u001b[0;34m(\u001b[0m\u001b[0mffs\u001b[0m\u001b[0;34m,\u001b[0m\u001b[0mgfs\u001b[0m\u001b[0;34m.\u001b[0m\u001b[0mconj\u001b[0m\u001b[0;34m)\u001b[0m\u001b[0;34m\u001b[0m\u001b[0;34m\u001b[0m\u001b[0m\n\u001b[0m\u001b[1;32m      4\u001b[0m \u001b[0;34m\u001b[0m\u001b[0m\n\u001b[1;32m      5\u001b[0m \u001b[0mtheta_approx\u001b[0m \u001b[0;34m=\u001b[0m \u001b[0mnp\u001b[0m\u001b[0;34m.\u001b[0m\u001b[0marccos\u001b[0m\u001b[0;34m(\u001b[0m\u001b[0minner_approx\u001b[0m\u001b[0;34m/\u001b[0m\u001b[0;34m(\u001b[0m\u001b[0mfnorm_approx\u001b[0m\u001b[0;34m*\u001b[0m\u001b[0mgnorm_approx\u001b[0m\u001b[0;34m)\u001b[0m\u001b[0;34m)\u001b[0m\u001b[0;34m\u001b[0m\u001b[0;34m\u001b[0m\u001b[0m\n",
      "\u001b[0;32m<__array_function__ internals>\u001b[0m in \u001b[0;36mdot\u001b[0;34m(*args, **kwargs)\u001b[0m\n",
      "\u001b[0;31mTypeError\u001b[0m: unsupported operand type(s) for *: 'complex' and 'builtin_function_or_method'"
     ]
    }
   ],
   "source": [
    "fnorm_approx = np.linalg.norm(ffs)\n",
    "gnorm_approx = np.linalg.norm(gfs)\n",
    "inner_approx = np.dot(ffs,gfs.conj)\n",
    "\n",
    "theta_approx = np.arccos(inner_approx/(fnorm_approx*gnorm_approx))\n",
    "\n",
    "print(f\"|f| = {fnorm_approx:0.3f}, |g| = {gnorm_approx:0.3f}, <f,g> = {inner_approx}, theta = {theta_approx}radians\")"
   ]
  },
  {
   "cell_type": "code",
   "execution_count": null,
   "metadata": {},
   "outputs": [],
   "source": []
  }
 ],
 "metadata": {
  "kernelspec": {
   "display_name": "Python 3",
   "language": "python",
   "name": "python3"
  },
  "language_info": {
   "codemirror_mode": {
    "name": "ipython",
    "version": 3
   },
   "file_extension": ".py",
   "mimetype": "text/x-python",
   "name": "python",
   "nbconvert_exporter": "python",
   "pygments_lexer": "ipython3",
   "version": "3.6.12"
  }
 },
 "nbformat": 4,
 "nbformat_minor": 4
}
