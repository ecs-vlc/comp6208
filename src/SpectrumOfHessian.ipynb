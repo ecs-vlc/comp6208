{
 "cells": [
  {
   "cell_type": "markdown",
   "metadata": {},
   "source": [
    "# Estimating Eigenspectrum of Hessians"
   ]
  },
  {
   "cell_type": "markdown",
   "metadata": {},
   "source": [
    "Setup libraries"
   ]
  },
  {
   "cell_type": "code",
   "execution_count": 1,
   "metadata": {
    "collapsed": true
   },
   "outputs": [],
   "source": [
    "import numpy as np\n",
    "import matplotlib.pyplot as plt\n",
    "from numpy import random\n",
    "import math\n",
    "from IPython.display import Markdown, display\n",
    "%matplotlib inline\n",
    "def printmd(string):\n",
    "    display(Markdown(string))"
   ]
  },
  {
   "cell_type": "markdown",
   "metadata": {},
   "source": [
    "## Generate Random Hessian"
   ]
  },
  {
   "cell_type": "code",
   "execution_count": 2,
   "metadata": {},
   "outputs": [],
   "source": [
    "n = 200\n",
    "X = np.random.randn(150,n)\n",
    "H = np.matmul(X.transpose(),X)"
   ]
  },
  {
   "cell_type": "markdown",
   "metadata": {},
   "source": [
    "## Compute Eigenvalue Spectrum"
   ]
  },
  {
   "cell_type": "code",
   "execution_count": 3,
   "metadata": {},
   "outputs": [
    {
     "name": "stdout",
     "output_type": "stream",
     "text": [
      "Number of non-zero eigenvalues =  150\n"
     ]
    }
   ],
   "source": [
    "L = np.linalg.eigvalsh(H)\n",
    "Lnz = [l for l in L if l>1.0e-12]\n",
    "print(\"Number of non-zero eigenvalues = \", len(Lnz))"
   ]
  },
  {
   "cell_type": "markdown",
   "metadata": {},
   "source": [
    "Fit polynomial to spectrum"
   ]
  },
  {
   "cell_type": "code",
   "execution_count": 4,
   "metadata": {
    "scrolled": true
   },
   "outputs": [
    {
     "data": {
      "text/markdown": [
       "$\\lambda_k$ = -9.25 + 2.06$\\,k$ + -0.01622$\\,k^2$ + 0.00021$\\,k^3$"
      ],
      "text/plain": [
       "<IPython.core.display.Markdown object>"
      ]
     },
     "metadata": {},
     "output_type": "display_data"
    }
   ],
   "source": [
    "x = np.linspace(1,len(Lnz), len(Lnz))\n",
    "w = np.polyfit(x,Lnz,3)\n",
    "y = np.polyval(w,x)\n",
    "printmd(f'$\\lambda_k$ = {w[3]:.3g} + {w[2]:.3g}$\\,k$ + {w[1]:.4g}$\\,k^2$ + {w[0]:.3g}$\\,k^3$')"
   ]
  },
  {
   "cell_type": "code",
   "execution_count": null,
   "metadata": {
    "collapsed": true
   },
   "outputs": [],
   "source": []
  },
  {
   "cell_type": "markdown",
   "metadata": {},
   "source": [
    "Plot eigenvalue spectrum with fit"
   ]
  },
  {
   "cell_type": "code",
   "execution_count": 5,
   "metadata": {},
   "outputs": [
    {
     "data": {
      "text/plain": [
       "[<matplotlib.lines.Line2D at 0x7fb18d999978>]"
      ]
     },
     "execution_count": 5,
     "metadata": {},
     "output_type": "execute_result"
    },
    {
     "data": {
      "image/png": "[encoded data removed]",
      "text/plain": [
       "<matplotlib.figure.Figure at 0x7fb18d9999b0>"
      ]
     },
     "metadata": {},
     "output_type": "display_data"
    }
   ],
   "source": [
    "fig1, ax1 = plt.subplots()\n",
    "ax1.set_title(\"Eigenvalue Spectrum of Hessian\")\n",
    "ax1.set_ylabel(\"$\\lambda_k$\")\n",
    "ax1.set_xlabel(\"$k$\")\n",
    "ax1.plot(x,Lnz)\n",
    "ax1.plot(x,y,\"--\")"
   ]
  },
  {
   "cell_type": "markdown",
   "metadata": {},
   "source": [
    "### Compute sums"
   ]
  },
  {
   "cell_type": "code",
   "execution_count": 6,
   "metadata": {},
   "outputs": [
    {
     "name": "stdout",
     "output_type": "stream",
     "text": [
      "L2 = 1.094e+07, L4 = 4.906e+12, L6 = 5.922e+18\n"
     ]
    }
   ],
   "source": [
    "L2 = sum(L**2)\n",
    "L4 = 2*sum(L**4)\n",
    "L6 = 8*sum(L**6)\n",
    "print(f'L2 = {L2:.4g}, L4 = {L4:.4g}, L6 = {L6:.4}')"
   ]
  },
  {
   "cell_type": "markdown",
   "metadata": {},
   "source": [
    "## Collect gradient information"
   ]
  },
  {
   "cell_type": "code",
   "execution_count": 7,
   "metadata": {},
   "outputs": [
    {
     "data": {
      "image/png": "[encoded data removed]",
      "text/plain": [
       "<matplotlib.figure.Figure at 0x7fb18c262080>"
      ]
     },
     "metadata": {},
     "output_type": "display_data"
    }
   ],
   "source": [
    "noS = 100000                     # number of samples\n",
    "X = np.random.randn(n,noS)  # generate noS random vectors\n",
    "Grad = np.matmul(H,X)\n",
    "S = np.sum(Grad**2,axis=0)\n",
    "\n",
    "\n",
    "# Plot histogram of gradient squared\n",
    "\n",
    "fig2, ax2 = plt.subplots()\n",
    "ax2.set_title(\"Histogram or $\\\\|\\\\nabla f(w)\\\\|^2$\")\n",
    "ax2.set_xlabel(\"$s=\\\\|\\\\nabla f(w)\\\\|^2$\")\n",
    "ax2.set_ylabel(\"$P(s)$\")\n",
    "ax2.hist(S,20, normed=1);"
   ]
  },
  {
   "cell_type": "markdown",
   "metadata": {},
   "source": [
    "Compute cumulants of squared gradients"
   ]
  },
  {
   "cell_type": "code",
   "execution_count": 20,
   "metadata": {},
   "outputs": [
    {
     "data": {
      "text/markdown": [
       "$\\kappa_{1}\\,=\\,$1.093e+07$\\,\\pm\\,$5.8e+03, $\\kappa_{2}\\,=\\,$4.895e+12$\\,\\pm\\,$2.3e+10, $\\kappa_{3}\\,=\\,$5.823e+18$\\,\\pm\\,$6.2e+16"
      ],
      "text/plain": [
       "<IPython.core.display.Markdown object>"
      ]
     },
     "metadata": {},
     "output_type": "display_data"
    }
   ],
   "source": [
    "kappa=[None]*4\n",
    "kappa[1] = np.mean(S)\n",
    "kappa[2] = np.var(S)\n",
    "kappa[3] = noS*sum((S-kappa[1])**3)/((noS-1)*(noS-2))\n",
    "\n",
    "\n",
    "# Estimate kVaror\n",
    "N = 10;\n",
    "Ssplit = np.split(S,N)\n",
    "k1list = []\n",
    "k2list = []\n",
    "k3list = []\n",
    "for Ssmall in np.split(S,N):\n",
    "    k1s=np.mean(Ssmall)\n",
    "    k1list.append(k1s)\n",
    "    k2list.append(np.var(Ssmall))\n",
    "    noSs=len(Ssmall)\n",
    "    k3s=noSs*sum((Ssmall-k1s)**3)/((noSs-1)*(noSs-2))\n",
    "    k3list.append(k3s)\n",
    "kVar = [None]*4\n",
    "kVar[1] = np.var(k1list)/N\n",
    "kVar[2] = np.var(k2list)/N\n",
    "kVar[3] = np.var(k3list)/N\n",
    "\n",
    "def myformat(d,i):\n",
    "    f=\"{:.\"+str(i)+\"g}\"\n",
    "    return f.format(round(d,i))\n",
    "s=\"\"\n",
    "for i in range(1,4):\n",
    "    s += '$\\kappa_{' + str(i) + '}\\,=\\,$' + myformat(kappa[i],4) + '$\\,\\pm\\,$' + myformat(math.sqrt(kVar[i]),2)\n",
    "    if i<3:\n",
    "        s += \", \"\n",
    "printmd(s)"
   ]
  },
  {
   "cell_type": "markdown",
   "metadata": {},
   "source": [
    "## Monte Carlo"
   ]
  },
  {
   "cell_type": "code",
   "execution_count": 16,
   "metadata": {},
   "outputs": [
    {
     "name": "stdout",
     "output_type": "stream",
     "text": [
      "Acceptance rate =  0.0956\n",
      "1159 [1.94526868e-10 0.00000000e+00 9.94929779e-02 0.00000000e+00]\n"
     ]
    },
    {
     "data": {
      "text/markdown": [
       "$\\kappa_{1}\\,=\\,$5.16e+06, $\\kappa_{2}\\,=\\,$8.276e+10, $\\kappa_{3}\\,=\\,$3.289e+19"
      ],
      "text/plain": [
       "<IPython.core.display.Markdown object>"
      ]
     },
     "metadata": {},
     "output_type": "display_data"
    },
    {
     "data": {
      "text/markdown": [
       "$\\kappa_{1}\\,=\\,$1.093e+07, $\\kappa_{2}\\,=\\,$4.895e+12, $\\kappa_{3}\\,=\\,$5.823e+18"
      ],
      "text/plain": [
       "<IPython.core.display.Markdown object>"
      ]
     },
     "metadata": {},
     "output_type": "display_data"
    },
    {
     "name": "stdout",
     "output_type": "stream",
     "text": [
      "[None, 33550750.86398398, 5.3174030439113805e+20, 3.8686334598169644e+33]\n"
     ]
    }
   ],
   "source": [
    "nstar = round(n/2)\n",
    "p = np.array([1/(n*n),0,2,0])\n",
    "a = 400   # step size\n",
    "\n",
    "\n",
    "def kFromSpectra(nstar, p):        # compute cumulants from eigenvalue spectrum\n",
    "    k=np.linspace(1,nstar,nstar)\n",
    "    l=np.polyval(p,k)\n",
    "    return [0, sum(l**2), 2*sum(l**4), 8*sum(l**8)]\n",
    "\n",
    "def logprob(k, kappa, err):        # gaussian error\n",
    "    lp = 1.0\n",
    "    for i in range(1,4):\n",
    "        lp += -0.5*(k[i]-kappa[i])**2/err[i] # - 0.5*math.log(2*math.pi*err[i])\n",
    "    return lp\n",
    "\n",
    "def newGamma(m):                   # new update parameter\n",
    "    return m*random.gamma(a,1/a)\n",
    "\n",
    "\n",
    "def loga(m,m1):\n",
    "    r = m/m1\n",
    "    return -a*(math.log(r) - r + 1/r)  # includes Jeffreys prior\n",
    "\n",
    "kold = kFromSpectra(nstar,p)\n",
    "lpold = logprob(kold, kappa, kVar)\n",
    "accept = 0\n",
    "Iterations = 10000\n",
    "for iter in range(Iterations):\n",
    "    nstar1 = nstar + random.randint(-2,3)\n",
    "    p1 = np.array([0.0,0.0,0.0,0.0])\n",
    "    la = 0;\n",
    "    for i in range(3):\n",
    "        if p[i]==0:\n",
    "            continue\n",
    "        m1 = newGamma(p[i])\n",
    "        la += loga(p[i], m1)\n",
    "        p1[i] = m1\n",
    "    ke = kFromSpectra(nstar1,p1)\n",
    "    lp = logprob(ke, kappa, kVar)\n",
    "    sumLogProb = la +lp -lpold\n",
    "    if (sumLogProb>0 or random.rand()<math.exp(sumLogProb)):\n",
    "        p = p1.copy()\n",
    "        lpold = lp\n",
    "        nstar = nstar1\n",
    "        accept = accept +1\n",
    "\n",
    "print(\"Acceptance rate = \", accept/Iterations)\n",
    "\n",
    "def printKappa(k):\n",
    "    s = \"\"\n",
    "    for i in range(1,4):\n",
    "        s += '$\\kappa_{' + str(i) + '}\\,=\\,$' + myformat(k[i],4)\n",
    "        if i<3:\n",
    "            s += \", \"\n",
    "    printmd(s)\n",
    "\n",
    "print(nstar,p)\n",
    "printKappa(kFromSpectra(nstar,p))\n",
    "printKappa(kappa)\n",
    "print(kVar)"
   ]
  },
  {
   "cell_type": "code",
   "execution_count": null,
   "metadata": {
    "collapsed": true
   },
   "outputs": [],
   "source": []
  },
  {
   "cell_type": "code",
   "execution_count": null,
   "metadata": {
    "collapsed": true
   },
   "outputs": [],
   "source": []
  }
 ],
 "metadata": {
  "kernelspec": {
   "display_name": "Python 3",
   "language": "python",
   "name": "python3"
  },
  "language_info": {
   "codemirror_mode": {
    "name": "ipython",
    "version": 3
   },
   "file_extension": ".py",
   "mimetype": "text/x-python",
   "name": "python",
   "nbconvert_exporter": "python",
   "pygments_lexer": "ipython3",
   "version": "3.6.3"
  }
 },
 "nbformat": 4,
 "nbformat_minor": 2
}
