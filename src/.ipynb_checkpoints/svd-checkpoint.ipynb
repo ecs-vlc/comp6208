{
 "cells": [
  {
   "cell_type": "code",
   "execution_count": 40,
   "id": "c2fa710c",
   "metadata": {},
   "outputs": [
    {
     "name": "stdout",
     "output_type": "stream",
     "text": [
      "B=\n",
      "[[0. 0. 1. 5. 4.]\n",
      " [0. 0. 7. 2. 1.]\n",
      " [1. 7. 0. 0. 0.]\n",
      " [5. 2. 0. 0. 0.]\n",
      " [4. 1. 0. 0. 0.]]\n",
      "\n",
      "eigenvalues = [-8.3571 -5.1147  0.      5.1147  8.3571]\n",
      "\n",
      "X=[[1. 5. 4.]\n",
      " [7. 2. 1.]]\n",
      "\n",
      "s = [8.3571 5.1147]\n",
      "\n",
      "w*w.T=\n",
      "[[ 1.  0. -0.  0.  0.]\n",
      " [ 0.  1.  0.  0.  0.]\n",
      " [-0.  0.  1.  0.  0.]\n",
      " [ 0.  0.  0.  1.  0.]\n",
      " [ 0.  0.  0.  0.  1.]]\n",
      "\n",
      "w.T*w=\n",
      "[[ 1.  0. -0.  0.  0.]\n",
      " [ 0.  1. -0.  0. -0.]\n",
      " [-0. -0.  1.  0.  0.]\n",
      " [ 0.  0.  0.  1. -0.]\n",
      " [ 0. -0.  0. -0.  1.]]\n",
      "\n"
     ]
    }
   ],
   "source": [
    "import numpy as np\n",
    "np.set_printoptions(precision=4, suppress=True)\n",
    "\n",
    "B = np.array([[0.0, 0, 1,5,4],[0,0,7,2,1],[0,0,0,0,0],[0,0,0,0,0],[0,0,0,0,0]])\n",
    "B = B + B.T\n",
    "print(f\"B=\\n{B}\\n\")\n",
    "\n",
    "l, w = np.linalg.eigh(B)\n",
    "print(f\"eigenvalues = {l}\\n\")\n",
    "X = B[:2,2:]\n",
    "print(f\"X={X}\\n\")\n",
    "U, s, Vt = np.linalg.svd(X)\n",
    "print(f\"s = {s}\\n\")\n",
    "\n",
    "print(f\"w*w.T=\\n{w@w.T}\\n\")\n",
    "print(f\"w.T*w=\\n{w.T@w}\\n\")"
   ]
  },
  {
   "cell_type": "code",
   "execution_count": 76,
   "id": "e2dac57a",
   "metadata": {},
   "outputs": [
    {
     "name": "stdout",
     "output_type": "stream",
     "text": [
      "w = \n",
      "[[ 0.4258  0.5645 -0.     -0.5645  0.4258]\n",
      " [ 0.5645 -0.4258  0.      0.4258  0.5645]\n",
      " [-0.5238  0.4724 -0.0702  0.4724  0.5238]\n",
      " [-0.3899 -0.3854  0.6317 -0.3854  0.3899]\n",
      " [-0.2714 -0.3582 -0.772  -0.3582  0.2714]]\n",
      "\n",
      "u = \n",
      "[[-0.7983  0.6022]\n",
      " [ 0.6022  0.7983]]\n",
      "\n",
      "Usvd = \n",
      "[[ 0.6022 -0.7983]\n",
      " [ 0.7983  0.6022]]\n",
      "\n",
      "u*u.T = \n",
      "[[1. 0.]\n",
      " [0. 1.]]\n",
      "\n",
      "lambda = [26.1597 69.8403], s^2 = [69.8403 26.1597]\n",
      "\n",
      "[[-0.7983  0.6022]\n",
      " [ 0.6022  0.7983]]\n"
     ]
    }
   ],
   "source": [
    "print(f\"w = \\n{w}\\n\")\n",
    "u = np.sqrt(2.0)*w[:2,3:]\n",
    "print(f\"u = \\n{u}\\n\")\n",
    "\n",
    "print(f\"Usvd = \\n{U}\\n\")\n",
    "print(f\"u*u.T = \\n{u@u.T}\\n\")\n",
    "\n",
    "lam, V = np.linalg.eigh(X@X.T)\n",
    "print(f\"lambda = {lam}, s^2 = {s*s}\\n\")\n",
    "print(V)"
   ]
  },
  {
   "cell_type": "code",
   "execution_count": 72,
   "id": "5ba08b18",
   "metadata": {},
   "outputs": [
    {
     "name": "stdout",
     "output_type": "stream",
     "text": [
      "U*S*V.T = \n",
      "[[1. 5. 4.]\n",
      " [7. 2. 1.]]\n",
      "\n",
      "X = \n",
      "[[1. 5. 4.]\n",
      " [7. 2. 1.]]\n"
     ]
    }
   ],
   "source": [
    "print(f\"U*S*V.T = \\n{U@np.diag(s)@Vt[:2,:]}\\n\")\n",
    "print(f\"X = \\n{X}\")"
   ]
  },
  {
   "cell_type": "code",
   "execution_count": null,
   "id": "a39369f8",
   "metadata": {},
   "outputs": [],
   "source": []
  }
 ],
 "metadata": {
  "kernelspec": {
   "display_name": "new_env",
   "language": "python",
   "name": "new_env"
  },
  "language_info": {
   "codemirror_mode": {
    "name": "ipython",
    "version": 3
   },
   "file_extension": ".py",
   "mimetype": "text/x-python",
   "name": "python",
   "nbconvert_exporter": "python",
   "pygments_lexer": "ipython3",
   "version": "3.9.7"
  }
 },
 "nbformat": 4,
 "nbformat_minor": 5
}
